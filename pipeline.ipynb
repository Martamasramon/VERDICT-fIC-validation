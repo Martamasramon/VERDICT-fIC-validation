{
 "cells": [
  {
   "cell_type": "markdown",
   "metadata": {},
   "source": [
    "### 1. Get patches & downsampled images"
   ]
  },
  {
   "cell_type": "code",
   "execution_count": null,
   "metadata": {},
   "outputs": [],
   "source": [
    "ndpi_samples = {  \n",
    "    # 'Patient ID': {\n",
    "        # 'key': ndpi open key, \n",
    "        # 'nums': [list of histo slice IDs]}\n",
    "}"
   ]
  },
  {
   "cell_type": "code",
   "execution_count": null,
   "metadata": {},
   "outputs": [],
   "source": [
    "from create_patches import *\n",
    "\n",
    "SCALE_IMG = True\n",
    "PATCHES   = False   \n",
    "\n",
    "SIZE  = 512\n",
    "START = 0\n",
    "\n",
    "folder_in      = ''  \n",
    "folder_down    = ''\n",
    "folder_patches = ''\n",
    "            \n",
    "if SCALE_IMG:\n",
    "    for sid in ndpi_samples:\n",
    "        print(sid, ':')\n",
    "        for s in ndpi_samples[sid]['nums']:\n",
    "            print('- ', s)\n",
    "            scale_hsv(folder_in + sid + '/', folder_down, sid, s, target_means, key=ndpi_samples[sid]['key'])    \n",
    "            \n",
    "if PATCHES:\n",
    "    for sid in ndpi_samples:\n",
    "        print(sid, ':')\n",
    "        for s in slices[sid]['nums']:\n",
    "            print('- ', s)\n",
    "            img_means = check_hsv(folder_in + sid + '/', sid, s, key=ndpi_samples[sid]['key'])\n",
    "            divide_image(folder_in + sid + '/', folder_patches+sid+'_'+s+'_SN/', sid+'_'+s, target_means, img_means, size=SIZE, key=slices[sid]['key'], start=START)   \n"
   ]
  },
  {
   "cell_type": "markdown",
   "metadata": {},
   "source": [
    "### 2. Count cell nuclei per patch in QuPath\n",
    "\n",
    "Run the cell nuclei counting script on QuPath"
   ]
  },
  {
   "cell_type": "markdown",
   "metadata": {},
   "source": [
    "### 3. Get tissue fractions in ImagePro\n",
    "\n",
    "Run the tissue fraction segmentation script on ImagePro.\n",
    "Note - We use large patches here (5120x5120 pixels) and then break them down into smaller patches in the next step. This proved to be more efficient."
   ]
  },
  {
   "cell_type": "markdown",
   "metadata": {},
   "source": [
    "### 4. Get cell density and tissue fraction maps\n",
    "\n",
    "We assume previous analysis has resulted in:\n",
    "- A csv file with the number of cell nuclei per patch\n",
    "- A txt file with the tissue fractions per patch"
   ]
  },
  {
   "cell_type": "code",
   "execution_count": null,
   "metadata": {},
   "outputs": [],
   "source": [
    "param_samples = {  \n",
    "    # 'name of cell density csv file': [\n",
    "        # name of tissue fraction txt file, \n",
    "        # height, \n",
    "        # width, \n",
    "        # flip vertically (opt), \n",
    "        # flip horizontally (opt)]\n",
    "}"
   ]
  },
  {
   "cell_type": "code",
   "execution_count": null,
   "metadata": {},
   "outputs": [],
   "source": [
    "from get_histo_param_maps import get_txt_from_masks, get_density_and_fractions, resize_maps\n",
    "\n",
    "PLOT   = False\n",
    "folder_original     = ''\n",
    "folder_downsampled  = ''\n",
    "\n",
    "folder_ndpi  = 'F:/Histology/NDPI/'  \n",
    "folder_masks = 'F:/Histology/PNG/'  \n",
    "      \n",
    "padding = [0,4000,0,0]\n",
    "fractions = ['stroma', 'lumen', 'epithelial']\n",
    "  \n",
    "for sid in ndpi_samples:\n",
    "    for s in ndpi_samples[sid]['nums']:\n",
    "        get_txt_from_masks(folder_ndpi, folder_masks, sid, s, padding, key=ndpi_samples[sid]['key'])\n",
    "        \n",
    "for sid in param_samples:\n",
    "    for s in param_samples[sid]['nums']:\n",
    "        get_density_and_fractions(folder_original, param_samples[sid], sid, plot=PLOT)         \n",
    "\n",
    "for sid in ndpi_samples:\n",
    "    for s in ndpi_samples[sid]['nums']:\n",
    "        for fraction in fractions:\n",
    "            resize_maps(folder_original, folder_downsampled, sid, s, fraction)"
   ]
  },
  {
   "cell_type": "markdown",
   "metadata": {},
   "source": [
    "### 5. Compare ROIs in histology and VERDICT maps "
   ]
  },
  {
   "cell_type": "code",
   "execution_count": null,
   "metadata": {},
   "outputs": [],
   "source": [
    "MRI_samples = { \n",
    "    # 'Patient ID': 'slice ID',\n",
    "}\n",
    "\n",
    "multiple_lesions = {\n",
    "    # 'Patient ID': 'L2'\n",
    "}\n",
    "\n",
    "GG = {\n",
    "    # 'GG 3+4':   [ list of patient IDs ],\n",
    "    # 'GG 3+4+5': [ list of patient IDs ],\n",
    "    # 'GG 4+3':   [ list of patient IDs ],\n",
    "    # 'GG >4+3':  [ list of patient IDs ]\n",
    "}"
   ]
  },
  {
   "cell_type": "code",
   "execution_count": null,
   "metadata": {},
   "outputs": [],
   "source": [
    "from get_ROI_stats import *\n",
    "\n",
    "##### Define parameters\n",
    "results  = {}\n",
    "MR_map   = 'fIC'\n",
    "seq      = 'VERDICT' # VERDICT or mpMRI\n",
    "PLOT     = False\n",
    "VERBOSE  = False\n",
    "folder_MRI   = ''  \n",
    "folder_histo = ''\n",
    "\n",
    "#### Get sample sids\n",
    "df = get_all_roi_stats(MR_map, seq)\n",
    "slices = [i for i in MRI_samples.keys()]\n",
    "all_slices = slices.copy()\n",
    "\n",
    "#### Process data\n",
    "for sid in slices:\n",
    "   if VERBOSE:\n",
    "      print('\\n','-'*5,sid,'-'*5)\n",
    "   \n",
    "   # For cases with multiple lesions, choose one\n",
    "   try:\n",
    "      cancer = multiple_lesions[sid]\n",
    "   except:\n",
    "      cancer = 'L1'\n",
    "      \n",
    "   try:\n",
    "      this_res = {}\n",
    "      this_res['fIC-cancer'],        this_res['fIC-benign']        = get_sid_roi(df, sid, MR_map, cancer_label=cancer, verbose=VERBOSE)\n",
    "      this_res['density-cancer'],    this_res['density-benign']    = analyse_density(folder_histo, sid, MRI_samples[sid],                        plot=PLOT, cancer=cancer, verbose=VERBOSE)\n",
    "      this_res['epithelial-cancer'], this_res['epithelial-benign'] = analyse_density(folder_histo, sid, MRI_samples[sid], hist_name='epithelial',plot=PLOT, cancer=cancer, verbose=VERBOSE)\n",
    "      this_res['stroma-cancer'],     this_res['stroma-benign']     = analyse_density(folder_histo, sid, MRI_samples[sid], hist_name='stroma',    plot=PLOT, cancer=cancer, verbose=VERBOSE)\n",
    "      this_res['lumen-cancer'],      this_res['lumen-benign']      = analyse_density(folder_histo, sid, MRI_samples[sid], hist_name='lumen',     plot=PLOT, cancer=cancer, verbose=VERBOSE)\n",
    "      results[sid] = this_res\n",
    "   except:\n",
    "      print('Error in ', sid)\n",
    "      all_slices.remove(sid)\n",
    "\n",
    "fIC_vals, density_vals, epith_vals, stroma_vals, lumen_vals = results_to_numpy_arrays(results)\n",
    "\n",
    "epith_density_vals = get_fraction_density(density_vals,epith_vals,stroma_vals)"
   ]
  },
  {
   "cell_type": "markdown",
   "metadata": {},
   "source": [
    "Analyse the difference between benign & csPCa ROIs for fIC/ADC and histologically derived parameters. "
   ]
  },
  {
   "cell_type": "code",
   "execution_count": null,
   "metadata": {},
   "outputs": [],
   "source": [
    "vals  = (fIC_vals, density_vals, epith_vals, stroma_vals, lumen_vals)\n",
    "names = [MR_map, 'Cell density', 'Epithelial fraction', 'Stromal fraction', 'Luminal fraction']\n",
    "\n",
    "_, ax = plt.subplots(1,5, figsize=(15,4))\n",
    "for i, data, name in zip(range(len(vals)), vals, names):\n",
    "    boxplot_single(ax[i], data, name)\n",
    "    get_auc(data, name)"
   ]
  },
  {
   "cell_type": "markdown",
   "metadata": {},
   "source": [
    "Plot the correlation between fIC/ADC and histologically derived parameters. "
   ]
  },
  {
   "cell_type": "code",
   "execution_count": null,
   "metadata": {},
   "outputs": [],
   "source": [
    "vals  = (density_vals, epith_density_vals, epith_vals, stroma_vals, lumen_vals)\n",
    "names = ['Cell density','Epithelial cell density', 'Epithelial fraction', 'Stromal fraction', 'Luminal fraction']\n",
    "\n",
    "for data, name in zip(vals, names):\n",
    "    plot_correlation(fIC_vals, data,  MR_map, name)"
   ]
  }
 ],
 "metadata": {
  "language_info": {
   "name": "python"
  }
 },
 "nbformat": 4,
 "nbformat_minor": 2
}
